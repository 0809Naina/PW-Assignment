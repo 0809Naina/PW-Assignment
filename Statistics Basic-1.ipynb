{
 "cells": [
  {
   "cell_type": "markdown",
   "id": "f0ac79e6-2ffc-4c31-a842-0aac840aa604",
   "metadata": {},
   "source": [
    "Q1. What is Statistics?"
   ]
  },
  {
   "cell_type": "raw",
   "id": "b241a924-7d35-47a7-8fbd-6ef792c4541d",
   "metadata": {},
   "source": [
    "Statistics is the branch of mathematics that deals with collecting, organizing, analyzing, interpreting, and presenting data. \n",
    "It helps us make sense of large amounts of information by summarizing it and drawing meaningful conclusions or making decisions based on that data."
   ]
  },
  {
   "cell_type": "markdown",
   "id": "b8e51f4b-1729-4cda-9c0c-5cf6a9769cdd",
   "metadata": {},
   "source": [
    "Q2. Define the different types of statistics and give an example of when each type might be used."
   ]
  },
  {
   "cell_type": "raw",
   "id": "c076fa0e-e92a-4fa3-aa71-c15401d32b33",
   "metadata": {},
   "source": [
    "1. Descriptive Statistics\n",
    "Descriptive statistics summarize or describe the main features of a dataset. They provide simple summaries about the sample and measures, such as averages, percentages, or visualizations like graphs.\n",
    "\n",
    "Ex: A teacher calculates the average score of a class on a test to understand how the class performed overall.\n",
    "\n",
    "2. Inferential Statistics\n",
    "Inferential statistics use a sample of data to make generalizations or predictions about a larger population. It involves hypothesis testing, estimation, and making predictions.\n",
    "\n",
    "Ex: A pollster surveys 1,000 people to estimate the voting preferences of the entire country’s population."
   ]
  },
  {
   "cell_type": "markdown",
   "id": "071ecb7f-daac-40a6-bb08-2fe4fc10b292",
   "metadata": {},
   "source": [
    "Q3. What are the different types of data and how do they differ from each other? Provide an example of\n",
    "each type of data."
   ]
  },
  {
   "cell_type": "raw",
   "id": "4a6004fe-05a8-44bf-aadf-6e4bad0bb777",
   "metadata": {},
   "source": [
    "1. Qualitative (Categorical) Data\n",
    "Data that describes qualities or categories and cannot be measured numerically.\n",
    "Types-\n",
    "Nominal: Categories with no natural order.\n",
    "Ex- Eye color (blue, brown, green)\n",
    "\n",
    "Ordinal: Categories with a meaningful order but no fixed difference between them.\n",
    "Ex- Education level (high school, bachelor’s, master’s, PhD)\n",
    "\n",
    "2. Quantitative (Numerical) Data\n",
    "Data that represents measurable quantities and can be expressed numerically.\n",
    "Types-\n",
    "Discrete: Countable data, often integers.\n",
    "Ex- Number of students in a class (25, 30, 40)\n",
    "\n",
    "Continuous: Data that can take any value within a range.\n",
    "Ex- Height of a person (170.5 cm, 165.2 cm)"
   ]
  },
  {
   "cell_type": "markdown",
   "id": "f207d53f-e81f-4496-8f64-43c519f1ad35",
   "metadata": {},
   "source": [
    "Q4. Categorise the following datasets with respect to quantitative and qualitative data types:\n",
    "(i) Grading in exam: A+, A, B+, B, C+, C, D, E\n",
    "(ii) Colour of mangoes: yellow, green, orange, red\n",
    "(iii) Height data of a class: [178.9, 179, 179.5, 176, 177.2, 178.3, 175.8,...]\n",
    "(iv) Number of mangoes exported by a farm: [500, 600, 478, 672, ...]"
   ]
  },
  {
   "cell_type": "raw",
   "id": "774ddce2-bf55-482b-9dba-80d784eed317",
   "metadata": {},
   "source": [
    "(i) Grading in exam (A+, A, B+, B, C+, C, D, E) is qualitative ordinal data because the grades represent categories with a meaningful order.\n",
    "(ii) Colour of mangoes (yellow, green, orange, red) is qualitative nominal data because these are categories without any natural order.\n",
    "(iii) Height data of a class (178.9, 179, 179.5, 176, 177.2, 178.3, 175.8, …) is quantitative continuous data because height can take any value within a range and is measurable.\n",
    "(iv) Number of mangoes exported by a farm (500, 600, 478, 672, …) is quantitative discrete data because it is countable in whole numbers."
   ]
  },
  {
   "cell_type": "markdown",
   "id": "9aa0feae-5e43-47cd-94a5-e98aa91a89e6",
   "metadata": {},
   "source": [
    "Q5. Explain the concept of levels of measurement and give an example of a variable for each level."
   ]
  },
  {
   "cell_type": "raw",
   "id": "ca763ccd-fd0d-4b02-8f8d-f5f7db141719",
   "metadata": {},
   "source": [
    "Levels of measurement describe how data values are categorized, counted, or measured. There are four main levels:\n",
    "Nominal Level - Data is categorized without any order or ranking. It’s just labels or names.\n",
    "Ex- Gender (Male, Female), Types of fruit (Apple, Banana, Mango)\n",
    "\n",
    "Ordinal Level - Data is categorized with a meaningful order or ranking, but the intervals between ranks are not necessarily equal.\n",
    "Ex: Movie ratings (Poor, Average, Good, Excellent), Education level (High School, Bachelor’s, Master’s, PhD)\n",
    "\n",
    "Interval Level - Data is ordered with equal intervals between values, but there is no true zero point (zero doesn’t mean “none”). You can add and subtract, but not multiply or divide meaningfully.\n",
    "Ex- Temperature in Celsius or Fahrenheit (0°C doesn’t mean no temperature)\n",
    "\n",
    "Ratio Level - Data has all the properties of interval data, and it has a true zero point, meaning zero means none. You can meaningfully perform all arithmetic operations (add, subtract, multiply, divide).\n",
    "Ex- Weight (0 kg means no weight), Height (0 cm means no height), Age (0 years means no age)"
   ]
  },
  {
   "cell_type": "markdown",
   "id": "1b89527a-c4d5-4d96-b111-46ce522a550b",
   "metadata": {},
   "source": [
    "Q6. Why is it important to understand the level of measurement when analyzing data? Provide an\n",
    "example to illustrate your answer."
   ]
  },
  {
   "cell_type": "raw",
   "id": "97e0fe43-1894-4bf2-acf0-5c05072ca422",
   "metadata": {},
   "source": [
    "Understanding the level of measurement is important because it determines which statistical methods and analyses are appropriate for your data. Different levels of measurement have different properties, and using the wrong technique can lead to incorrect conclusions.\n",
    "\n",
    "Ex - Let we have data on student satisfaction levels recorded as: Poor, Average, Good, Excellent (ordinal data). Since these are ordered categories without equal intervals, calculating the average satisfaction score is misleading because the difference between \"Poor\" and \"Average\" may not be the same as between \"Good\" and \"Excellent.\" Instead, it’s better to use median or mode or non-parametric tests for analysis.\n",
    "On the other hand, if we measure students’ heights (ratio data), calculating the average height is meaningful and appropriate."
   ]
  },
  {
   "cell_type": "markdown",
   "id": "71d40e51-e503-42ae-b173-97497c0011a5",
   "metadata": {},
   "source": [
    "Q7. How nominal data type is different from ordinal data type."
   ]
  },
  {
   "cell_type": "raw",
   "id": "3ad436f9-3f57-4a0c-a29d-7da8c6c3d98a",
   "metadata": {},
   "source": [
    "Nominal Data - Categories without any specific order or ranking.It is used to label or name things.\n",
    "Ex- Eye color (blue, green, brown), Types of fruits (apple, banana, mango).\n",
    "\n",
    "Mathematical operations- We cannot meaningfully compare or order these categories. We can count how many items fall into each category, but we can’t say one category is “greater” or “less” than another.\n",
    "\n",
    "Ordinal Data - Categories with a meaningful order or ranking, but the intervals between ranks are not necessarily equal.Its pupose is to show relative position or rank.\n",
    "Ex- Education level (high school, bachelor’s, master’s), Customer satisfaction (poor, fair, good, excellent).\n",
    "\n",
    "Mathematical operations: You can say one category is higher or lower than another, but you can’t measure the exact difference between categories."
   ]
  },
  {
   "cell_type": "markdown",
   "id": "93b0b86f-2653-4582-8548-19a333b9d312",
   "metadata": {},
   "source": [
    "Q8. Which type of plot can be used to display data in terms of range?"
   ]
  },
  {
   "cell_type": "raw",
   "id": "42076920-893b-4a22-8937-701b4ddd4d0b",
   "metadata": {},
   "source": [
    "Box Plot (also called a Box-and-Whisker Plot) is used to display data in terms of range.\n",
    "A box plot visually shows the minimum, maximum, median, first quartile (Q1), and third quartile (Q3) of a dataset.\n",
    "It clearly displays the spread or range of the data, along with the interquartile range (IQR), and can highlight outliers."
   ]
  },
  {
   "cell_type": "markdown",
   "id": "48a7767a-27cf-49b4-8f5d-0dd6269891b6",
   "metadata": {},
   "source": [
    "Q9. Describe the difference between descriptive and inferential statistics. Give an example of each\n",
    "type of statistics and explain how they are used."
   ]
  },
  {
   "cell_type": "raw",
   "id": "910fb5f3-f873-4d47-aa42-a2d831f49082",
   "metadata": {},
   "source": [
    "Descriptive Statistics - Descriptive statistics summarize or describe the main features of a dataset. They provide simple summaries such as averages, percentages, or visual representations.\n",
    "It is used to present data in a meaningful way so it can be easily understood.\n",
    "It helps in quickly grasping the characteristics of the data but does not make predictions or generalizations beyond the data.\n",
    "Ex- A teacher calculates the average test score of a class (say, 75%) to understand how the class performed overall.\n",
    "\n",
    "Inferential Statistics - Inferential statistics use a sample of data to make generalizations or predictions about a larger population. It involves techniques like hypothesis testing, confidence intervals, and regression analysis.\n",
    "It is used to draw conclusions about a population based on a smaller sample.\n",
    "It allows decision-making or predictions beyond the collected data, accounting for uncertainty.\n",
    "Ex -  A pollster surveys 1,000 voters to estimate the voting preference of an entire country."
   ]
  },
  {
   "cell_type": "markdown",
   "id": "f4a25d20-128c-4b44-8e61-6cc94fed828c",
   "metadata": {},
   "source": [
    "Q10. What are some common measures of central tendency and variability used in statistics? Explain\n",
    "how each measure can be used to describe a dataset."
   ]
  },
  {
   "cell_type": "raw",
   "id": "35266c08-68fe-4566-a529-c9476f239536",
   "metadata": {},
   "source": [
    "These measures describe the center or typical value of a dataset.\n",
    "Mean (Average) - Calculated by adding all values and dividing by the number of values.\n",
    "Use - Shows the overall average, useful for interval and ratio data.\n",
    "Ex - Average height of students in a class.\n",
    "\n",
    "Median - The middle value when data is ordered from smallest to largest.\n",
    "Use - Useful when data has outliers or is skewed, as it is less affected by extreme values.\n",
    "Ex - Median income in a neighborhood.\n",
    "\n",
    "Mode\n",
    "The most frequently occurring value in the dataset.\n",
    "Use - Useful for categorical data or to identify the most common value.\n",
    "Ex- Most common shoe size sold in a store."
   ]
  },
  {
   "cell_type": "code",
   "execution_count": null,
   "id": "1cbd7dd0-8362-4ed9-b5d2-96725dba16ee",
   "metadata": {},
   "outputs": [],
   "source": []
  }
 ],
 "metadata": {
  "kernelspec": {
   "display_name": "Python [conda env:py3109]",
   "language": "python",
   "name": "conda-env-py3109-py"
  },
  "language_info": {
   "codemirror_mode": {
    "name": "ipython",
    "version": 3
   },
   "file_extension": ".py",
   "mimetype": "text/x-python",
   "name": "python",
   "nbconvert_exporter": "python",
   "pygments_lexer": "ipython3",
   "version": "3.10.16"
  }
 },
 "nbformat": 4,
 "nbformat_minor": 5
}
