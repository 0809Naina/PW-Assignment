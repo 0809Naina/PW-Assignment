{
 "cells": [
  {
   "cell_type": "markdown",
   "id": "99282e1b-d0c5-407f-929e-6937b800714c",
   "metadata": {},
   "source": [
    "Q1. Explain Class and Object with respect to Object-Oriented Programming. Give a suitable example."
   ]
  },
  {
   "cell_type": "raw",
   "id": "d47274d5-006b-4a3a-942f-6030ec6168d6",
   "metadata": {},
   "source": [
    "In Object-Oriented Programming (OOP), Classes and Objects are fundamental concepts:\n",
    "1. Class:\n",
    "A class is a blueprint or template for creating objects. It defines the properties (attributes) and behaviors (methods) that the objects of this class will have. Essentially, a class is a way to organize data and functions that operate on that data.\n",
    "A class defines:\n",
    "Attributes (also called fields or properties): These are the data members of a class, which represent the state of an object.\n",
    "Methods (also called functions or behaviors): These are functions that define the behaviors or actions that an object of the class can perform.\n",
    "\n",
    "2. Object:\n",
    "An object is an instance of a class. When a class is defined, no memory is allocated until an object is created from that class. Each object has its own state (attributes) and can perform actions (methods) defined by the class.\n",
    "In simpler terms, think of a class as a blueprint, and an object as a specific instance of that blueprint."
   ]
  },
  {
   "cell_type": "code",
   "execution_count": 2,
   "id": "1a1f2b27-5935-4724-876d-09f53211450f",
   "metadata": {},
   "outputs": [
    {
     "name": "stdout",
     "output_type": "stream",
     "text": [
      "Car Make: Toyota\n",
      "Car Model: Corolla\n",
      "Car Year: 2020\n",
      "Car Make: Honda\n",
      "Car Model: Civic\n",
      "Car Year: 2022\n",
      "The Toyota Corolla is starting...\n",
      "The Honda Civic is starting...\n"
     ]
    }
   ],
   "source": [
    "# Define the Car class (class blueprint)\n",
    "class Car:\n",
    "    # Constructor to initialize attributes\n",
    "    def __init__(self, make, model, year):\n",
    "        self.make = make  # Attribute for car make\n",
    "        self.model = model  # Attribute for car model\n",
    "        self.year = year  # Attribute for car manufacturing year\n",
    "\n",
    "    # Method to display car details\n",
    "    def display_info(self):\n",
    "        print(f\"Car Make: {self.make}\")\n",
    "        print(f\"Car Model: {self.model}\")\n",
    "        print(f\"Car Year: {self.year}\")\n",
    "\n",
    "    # Method to start the car\n",
    "    def start(self):\n",
    "        print(f\"The {self.make} {self.model} is starting...\")\n",
    "\n",
    "# Create objects (instances) of the Car class\n",
    "car1 = Car(\"Toyota\", \"Corolla\", 2020)\n",
    "car2 = Car(\"Honda\", \"Civic\", 2022)\n",
    "\n",
    "# Accessing methods and attributes using objects\n",
    "car1.display_info()  # Output car1 details\n",
    "car2.display_info()  # Output car2 details\n",
    "\n",
    "# Start the cars\n",
    "car1.start()  # Output: The Toyota Corolla is starting...\n",
    "car2.start()  # Output: The Honda Civic is starting..."
   ]
  },
  {
   "cell_type": "markdown",
   "id": "4161681a-fa0c-4794-8827-9d9b42c2b0e9",
   "metadata": {},
   "source": [
    "Q2. Name the four pillars of OOPs."
   ]
  },
  {
   "cell_type": "raw",
   "id": "19dbf874-8189-49c8-a536-02bdcee334f1",
   "metadata": {},
   "source": [
    "The four pillars of Object-Oriented Programming (OOP) are:\n",
    "1.Encapsulation\n",
    "2.Abstraction\n",
    "3.Inheritance\n",
    "4.Polymorphism"
   ]
  },
  {
   "cell_type": "markdown",
   "id": "823937ca-b1fd-4cbd-871b-f39bfc38725d",
   "metadata": {},
   "source": [
    "Q3. Explain why the __init__() function is used. Give a suitable example."
   ]
  },
  {
   "cell_type": "raw",
   "id": "56944042-7a25-40ec-81d8-815dd15a5681",
   "metadata": {},
   "source": [
    "The __init__() function in Python is a special method (also known as a constructor) that is automatically called when a new instance (object) of a class is created. Its primary purpose is to initialize the attributes of the newly created object.\n",
    "It is used because\n",
    "1.Object Initialization: It is used to initialize the object's attributes with values when the object is created. This is typically done by passing arguments to __init__() to set the initial state of the object.\n",
    "2.Self-Referencing: The __init__() method takes the self parameter, which refers to the current instance of the class. Using self, you can assign values to the attributes of the instance.\n",
    "3.Automatic Invocation: The __init__() method is called automatically when an object is created using the class, so you don’t have to explicitly call it."
   ]
  },
  {
   "cell_type": "code",
   "execution_count": 6,
   "id": "259ef70a-68fa-4576-9bf6-1fabe1020e82",
   "metadata": {},
   "outputs": [
    {
     "name": "stdout",
     "output_type": "stream",
     "text": [
      "Name: Alice\n",
      "Age: 30\n"
     ]
    }
   ],
   "source": [
    "class Person:\n",
    "    # Constructor method to initialize attributes\n",
    "    def __init__(self, name, age):\n",
    "        self.name = name  # Initializing name attribute\n",
    "        self.age = age    # Initializing age attribute\n",
    "\n",
    "    # Method to display the person's information\n",
    "    def display_info(self):\n",
    "        print(f\"Name: {self.name}\")\n",
    "        print(f\"Age: {self.age}\")\n",
    "\n",
    "# Creating an object of the Person class\n",
    "person1 = Person(\"Alice\", 30)\n",
    "\n",
    "# Accessing methods using the object\n",
    "person1.display_info()"
   ]
  },
  {
   "cell_type": "markdown",
   "id": "2d8c0319-f015-4447-b14d-6424a4d5ca7c",
   "metadata": {},
   "source": [
    "Q4. Why self is used in OOPs?"
   ]
  },
  {
   "cell_type": "raw",
   "id": "a69d3f65-b7b9-437f-b703-7d0116877102",
   "metadata": {},
   "source": [
    "self is used in OOPs because :\n",
    "1.The self parameter is a reference to the current instance of the class.\n",
    "2.Through self, you can access and modify the instance's attributes (also called instance variables) and call other instance methods within the class.\n",
    "3.self helps distinguish between instance variables and local variables in a method.\n",
    "4.n Python, instance methods (non-static methods) must include self as the first parameter, even though it is not explicitly passed when you call the method. Python automatically passes the object itself to the method when the method is invoked."
   ]
  },
  {
   "cell_type": "markdown",
   "id": "637ee1b9-9899-4170-825b-ad36a19196f5",
   "metadata": {},
   "source": [
    "Q5. What is inheritance? Give an example for each type of inheritance."
   ]
  },
  {
   "cell_type": "raw",
   "id": "3c5a1aeb-2787-4ad3-af61-3dbd52f7e954",
   "metadata": {},
   "source": [
    "Inheritance is one of the four fundamental principles of Object-Oriented Programming (OOP). It allows a class (called the child class or subclass) to inherit attributes and methods from another class (called the parent class or superclass). Inheritance promotes code reusability and creates a hierarchical relationship between classes."
   ]
  },
  {
   "cell_type": "raw",
   "id": "6f50b933-ecf6-4e9a-9bf8-de9161927890",
   "metadata": {},
   "source": [
    "Python supports several types of inheritance, they are :\n",
    "Single Inheritance\n",
    "Multiple Inheritance\n",
    "Multilevel Inheritance\n",
    "Hierarchical Inheritance\n",
    "Hybrid Inheritance"
   ]
  },
  {
   "cell_type": "code",
   "execution_count": 11,
   "id": "a5ed408a-59e4-4b52-8842-918addcd9fa3",
   "metadata": {},
   "outputs": [
    {
     "name": "stdout",
     "output_type": "stream",
     "text": [
      "Animal makes a sound\n",
      "Dog barks\n"
     ]
    }
   ],
   "source": [
    "# 1. Single Inheritance\n",
    "# Parent class\n",
    "class Animal:\n",
    "    def sound(self):\n",
    "        print(\"Animal makes a sound\")\n",
    "\n",
    "# Child class inherits from Animal\n",
    "class Dog(Animal):\n",
    "    def bark(self):\n",
    "        print(\"Dog barks\")\n",
    "\n",
    "# Create an object of Dog class\n",
    "dog = Dog()\n",
    "dog.sound()  # Inherited method from Animal\n",
    "dog.bark()   # Method of Dog class"
   ]
  },
  {
   "cell_type": "code",
   "execution_count": 13,
   "id": "16eb60e8-9d70-4776-b985-75a8131a2c00",
   "metadata": {},
   "outputs": [
    {
     "name": "stdout",
     "output_type": "stream",
     "text": [
      "Animal makes a sound\n",
      "Bird flies\n",
      "Parrot speaks\n"
     ]
    }
   ],
   "source": [
    "# 2. Multiple Inheritance\n",
    "# Parent class 1\n",
    "class Animal:\n",
    "    def sound(self):\n",
    "        print(\"Animal makes a sound\")\n",
    "\n",
    "# Parent class 2\n",
    "class Bird:\n",
    "    def fly(self):\n",
    "        print(\"Bird flies\")\n",
    "\n",
    "# Child class inherits from both Animal and Bird\n",
    "class Parrot(Animal, Bird):\n",
    "    def speak(self):\n",
    "        print(\"Parrot speaks\")\n",
    "\n",
    "# Create an object of Parrot class\n",
    "parrot = Parrot()\n",
    "parrot.sound()  # Inherited from Animal\n",
    "parrot.fly()    # Inherited from Bird\n",
    "parrot.speak()  # Method of Parrot class\n"
   ]
  },
  {
   "cell_type": "code",
   "execution_count": 15,
   "id": "bc073db9-c9ed-4746-b9f2-78b263ff3826",
   "metadata": {},
   "outputs": [
    {
     "name": "stdout",
     "output_type": "stream",
     "text": [
      "Animal makes a sound\n",
      "Mammal walks\n",
      "Dog barks\n"
     ]
    }
   ],
   "source": [
    "# 3. Multilevel Inheritance\n",
    "# Grandparent class\n",
    "class Animal:\n",
    "    def sound(self):\n",
    "        print(\"Animal makes a sound\")\n",
    "\n",
    "# Parent class inherits from Animal\n",
    "class Mammal(Animal):\n",
    "    def walk(self):\n",
    "        print(\"Mammal walks\")\n",
    "\n",
    "# Child class inherits from Mammal\n",
    "class Dog(Mammal):\n",
    "    def bark(self):\n",
    "        print(\"Dog barks\")\n",
    "\n",
    "# Create an object of Dog class\n",
    "dog = Dog()\n",
    "dog.sound()  # Inherited from Animal\n",
    "dog.walk()   # Inherited from Mammal\n",
    "dog.bark()   # Method of Dog class\n"
   ]
  },
  {
   "cell_type": "code",
   "execution_count": 17,
   "id": "ef4fa8e2-e449-43a8-9ec1-c42bc123bcb5",
   "metadata": {},
   "outputs": [
    {
     "name": "stdout",
     "output_type": "stream",
     "text": [
      "Animal makes a sound\n",
      "Bird flies\n",
      "Mammal walks\n",
      "Bat hangs upside down\n"
     ]
    }
   ],
   "source": [
    "# 5. Hybrid Inheritance\n",
    "# Parent class 1\n",
    "class Animal:\n",
    "    def sound(self):\n",
    "        print(\"Animal makes a sound\")\n",
    "\n",
    "# Parent class 2\n",
    "class Bird:\n",
    "    def fly(self):\n",
    "        print(\"Bird flies\")\n",
    "\n",
    "# Child class 1 inherits from Animal\n",
    "class Mammal(Animal):\n",
    "    def walk(self):\n",
    "        print(\"Mammal walks\")\n",
    "\n",
    "# Child class 2 inherits from both Mammal and Bird\n",
    "class Bat(Mammal, Bird):\n",
    "    def hang(self):\n",
    "        print(\"Bat hangs upside down\")\n",
    "\n",
    "# Create an object of Bat class\n",
    "bat = Bat()\n",
    "bat.sound()  # Inherited from Animal\n",
    "bat.fly()    # Inherited from Bird\n",
    "bat.walk()   # Inherited from Mammal\n",
    "bat.hang()   # Method of Bat class\n"
   ]
  },
  {
   "cell_type": "code",
   "execution_count": null,
   "id": "27894e2f-b1fc-4522-8433-2ca9b2e56f61",
   "metadata": {},
   "outputs": [],
   "source": []
  }
 ],
 "metadata": {
  "kernelspec": {
   "display_name": "Python [conda env:py3109]",
   "language": "python",
   "name": "conda-env-py3109-py"
  },
  "language_info": {
   "codemirror_mode": {
    "name": "ipython",
    "version": 3
   },
   "file_extension": ".py",
   "mimetype": "text/x-python",
   "name": "python",
   "nbconvert_exporter": "python",
   "pygments_lexer": "ipython3",
   "version": "3.10.16"
  }
 },
 "nbformat": 4,
 "nbformat_minor": 5
}
