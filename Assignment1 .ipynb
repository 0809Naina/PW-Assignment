{
 "cells": [
  {
   "cell_type": "markdown",
   "id": "4e9bba95-7e1a-4e10-b1de-d3923f8ecf42",
   "metadata": {},
   "source": [
    "Q1.Create one variable containing following type of data:\n",
    "(i) string\n",
    "(ii) list\n",
    "(iii) float\n",
    "(iv) tuple"
   ]
  },
  {
   "cell_type": "code",
   "execution_count": 6,
   "id": "512bba73-8dca-4ef3-9e7b-622d28e53026",
   "metadata": {},
   "outputs": [
    {
     "data": {
      "text/plain": [
       "{'string': 'Hello, world!',\n",
       " 'list': [1, 2, 3, 4],\n",
       " 'float': 3.14,\n",
       " 'tuple': (5, 6, 7)}"
      ]
     },
     "execution_count": 6,
     "metadata": {},
     "output_type": "execute_result"
    }
   ],
   "source": [
    "# Answer -----\n",
    "mixed_data = {\n",
    "    \"string\": \"Hello, world!\",\n",
    "    \"list\": [1, 2, 3, 4],\n",
    "    \"float\": 3.14,\n",
    "    \"tuple\": (5, 6, 7)\n",
    "}\n",
    "mixed_data"
   ]
  },
  {
   "cell_type": "markdown",
   "id": "f2ab5bfd-d924-4c5c-be0a-b7a175fe6652",
   "metadata": {},
   "source": [
    "Q2. Given are some following variables containing data:\n",
    "(i) var1 = ‘ ‘\n",
    "(ii) var2 = ‘[ DS , ML , Python]’\n",
    "(iii) var3 = [ ‘DS’ , ’ML’ , ‘Python’ ]\n",
    "(iv) var4 = 1.\n",
    "\n",
    "What will be the data type of the above given variable."
   ]
  },
  {
   "cell_type": "code",
   "execution_count": 9,
   "id": "bda74880-c678-4c1d-8bc4-19553b772af1",
   "metadata": {},
   "outputs": [
    {
     "name": "stdout",
     "output_type": "stream",
     "text": [
      "<class 'str'>\n",
      "<class 'str'>\n",
      "<class 'list'>\n",
      "<class 'float'>\n"
     ]
    }
   ],
   "source": [
    "#Answrer ----------\n",
    "\n",
    "# (i)\n",
    "var1 = ' '\n",
    "print(type(var1)) \n",
    "\n",
    "# (ii)\n",
    "var2 = '[ DS , ML , Python]'\n",
    "print(type(var2))\n",
    "\n",
    "# (iii)\n",
    "var3 = ['DS', 'ML', 'Python']\n",
    "print(type(var3))\n",
    "\n",
    "# (iv)\n",
    "var4 = 1.\n",
    "print(type(var4))"
   ]
  },
  {
   "cell_type": "markdown",
   "id": "2486f39e-1a3e-4e7e-8536-c98d6cf31738",
   "metadata": {},
   "source": [
    "Q3. Explain the use of the following operators using an example:\n",
    "(i) /\n",
    "(ii) %\n",
    "(iii) //\n",
    "(iv) **"
   ]
  },
  {
   "cell_type": "raw",
   "id": "e5d5f619-72cc-4107-b39e-6aa34d917392",
   "metadata": {},
   "source": [
    "Answer----------\n",
    "i) / – Division Operator\n",
    "Use: Divides the left-hand operand by the right-hand operand and returns a float result.\n",
    "(ii) % – Modulus Operator\n",
    "Use: Returns the remainder of the division.\n",
    "(iii) // – Floor Division Operator\n",
    "Use: Divides and returns the largest integer less than or equal to the result (i.e., the floor).\n",
    "(iv) ** – Exponentiation Operator\n",
    "Use: Raises the left-hand operand to the power of the right-hand operand."
   ]
  },
  {
   "cell_type": "code",
   "execution_count": 15,
   "id": "38324efe-2b1f-4c01-b304-7e90b3ba205f",
   "metadata": {},
   "outputs": [
    {
     "name": "stdout",
     "output_type": "stream",
     "text": [
      "3.3333333333333335\n",
      "1\n",
      "3\n",
      "8\n"
     ]
    }
   ],
   "source": [
    "# EXAMPLES----\n",
    "# i) / –\n",
    "result = 10 / 3\n",
    "print(result)\n",
    "# (ii) % – \n",
    "result = 10 % 3\n",
    "print(result)\n",
    "# (iii) // –\n",
    "result = 10 // 3\n",
    "print(result) \n",
    "result = 2 ** 3\n",
    "print(result)"
   ]
  },
  {
   "cell_type": "markdown",
   "id": "358653ba-c197-4997-9a82-df3182112b70",
   "metadata": {},
   "source": [
    "Q4. Create a list of length 10 of your choice containing multiple types of data. Using for loop print the\n",
    "element and its data type."
   ]
  },
  {
   "cell_type": "code",
   "execution_count": 17,
   "id": "6474f976-35b5-4c18-a7a8-9a8fe5debc74",
   "metadata": {},
   "outputs": [
    {
     "name": "stdout",
     "output_type": "stream",
     "text": [
      "Element: 42, Type: <class 'int'>\n",
      "Element: Hello, Type: <class 'str'>\n",
      "Element: 3.14, Type: <class 'float'>\n",
      "Element: True, Type: <class 'bool'>\n",
      "Element: None, Type: <class 'NoneType'>\n",
      "Element: [1, 2, 3], Type: <class 'list'>\n",
      "Element: {'key': 'value'}, Type: <class 'dict'>\n",
      "Element: (4, 5), Type: <class 'tuple'>\n",
      "Element: {9, 10}, Type: <class 'set'>\n",
      "Element: b'bytes', Type: <class 'bytes'>\n"
     ]
    }
   ],
   "source": [
    "# Answer----------\n",
    "my_list = [42, 'Hello', 3.14, True, None, [1, 2, 3], {'key': 'value'}, (4, 5), {9, 10}, b'bytes']\n",
    "\n",
    "for element in my_list:\n",
    "    print(f\"Element: {element}, Type: {type(element)}\")\n"
   ]
  },
  {
   "cell_type": "markdown",
   "id": "282344b5-637a-4960-a83d-90aa45b130d1",
   "metadata": {},
   "source": [
    "Q5. Using a while loop, verify if the number A is purely divisible by number B and if so then how many\n",
    "times it can be divisible."
   ]
  },
  {
   "cell_type": "code",
   "execution_count": 26,
   "id": "0010a952-6e2e-4f5e-91f1-189b2357df38",
   "metadata": {},
   "outputs": [
    {
     "name": "stdout",
     "output_type": "stream",
     "text": [
      "72 is divisible by 3, 2 times.\n"
     ]
    }
   ],
   "source": [
    "A = 72\n",
    "B = 3\n",
    "# Counter to track how many times A is divisible by B\n",
    "count = 0\n",
    "temp = A\n",
    "# While B divides temp evenly\n",
    "while temp % B == 0:\n",
    "    temp = temp // B\n",
    "    count += 1\n",
    "if count > 0:\n",
    "    print(f\"{A} is divisible by {B}, {count} times.\")\n",
    "else:\n",
    "    print(f\"{A} is not purely divisible by {B}.\")"
   ]
  },
  {
   "cell_type": "markdown",
   "id": "57ccae17-1911-408a-9610-5e263c17d75f",
   "metadata": {},
   "source": [
    "Q6. Create a list containing 25 int type data. Using for loop and if-else condition print if the element is\n",
    "divisible by 3 or not."
   ]
  },
  {
   "cell_type": "code",
   "execution_count": 29,
   "id": "3d70502b-2a81-4f62-bfee-a6ac40c748d0",
   "metadata": {},
   "outputs": [
    {
     "name": "stdout",
     "output_type": "stream",
     "text": [
      "5 is NOT divisible by 3\n",
      "9 is divisible by 3\n",
      "12 is divisible by 3\n",
      "7 is NOT divisible by 3\n",
      "15 is divisible by 3\n",
      "20 is NOT divisible by 3\n",
      "3 is divisible by 3\n",
      "18 is divisible by 3\n",
      "22 is NOT divisible by 3\n",
      "30 is divisible by 3\n",
      "11 is NOT divisible by 3\n",
      "14 is NOT divisible by 3\n",
      "6 is divisible by 3\n",
      "33 is divisible by 3\n",
      "25 is NOT divisible by 3\n",
      "27 is divisible by 3\n",
      "8 is NOT divisible by 3\n",
      "13 is NOT divisible by 3\n",
      "36 is divisible by 3\n",
      "10 is NOT divisible by 3\n",
      "21 is divisible by 3\n",
      "24 is divisible by 3\n",
      "2 is NOT divisible by 3\n",
      "17 is NOT divisible by 3\n",
      "0 is divisible by 3\n"
     ]
    }
   ],
   "source": [
    "numbers = [5, 9, 12, 7, 15, 20, 3, 18, 22, 30, 11, 14, 6, 33, 25, 27, 8, 13, 36, 10, 21, 24, 2, 17, 0]\n",
    "\n",
    "for num in numbers:\n",
    "    if num % 3 == 0:\n",
    "        print(f\"{num} is divisible by 3\")\n",
    "    else:\n",
    "        print(f\"{num} is NOT divisible by 3\")"
   ]
  },
  {
   "cell_type": "markdown",
   "id": "ccf6b907-4a0a-4644-b227-4bfd89bba0f0",
   "metadata": {},
   "source": [
    "Q7. What do you understand about mutable and immutable data types? Give examples for both showing\n",
    "this property."
   ]
  },
  {
   "cell_type": "raw",
   "id": "07489b38-6b9e-4a7b-9a3a-85ed6cb2b3fa",
   "metadata": {},
   "source": [
    "Answers-----\n",
    "Mutable Data Types\n",
    "These data types can be changed (modified) after creation.\n",
    "\n",
    "Examples: list, dict, set, bytearray\n",
    "\n",
    "Immutable Data Types\n",
    "Definition: These data types cannot be changed after creation. Any change results in a new object.\n",
    "\n",
    "Examples: int, float, str, tuple, frozenset"
   ]
  },
  {
   "cell_type": "code",
   "execution_count": 32,
   "id": "d8fb547f-ce00-48eb-9230-e67e9193d640",
   "metadata": {},
   "outputs": [
    {
     "name": "stdout",
     "output_type": "stream",
     "text": [
      "Before: [1, 2, 3]\n",
      "After: [100, 2, 3]\n",
      "Before: Hello\n",
      "After: Jello\n"
     ]
    }
   ],
   "source": [
    "# Mutable Data Types\n",
    "my_list = [1, 2, 3]\n",
    "print(\"Before:\", my_list)\n",
    "\n",
    "my_list[0] = 100  \n",
    "print(\"After:\", my_list)\n",
    "\n",
    "# Immutable Data Types\n",
    "my_str = \"Hello\"\n",
    "print(\"Before:\", my_str)\n",
    "\n",
    "my_str = \"J\" + my_str[1:]\n",
    "print(\"After:\", my_str)"
   ]
  },
  {
   "cell_type": "code",
   "execution_count": null,
   "id": "0879d0d9-d8c2-4009-9ee0-524a68fc22ce",
   "metadata": {},
   "outputs": [],
   "source": []
  }
 ],
 "metadata": {
  "kernelspec": {
   "display_name": "Python [conda env:py3109]",
   "language": "python",
   "name": "conda-env-py3109-py"
  },
  "language_info": {
   "codemirror_mode": {
    "name": "ipython",
    "version": 3
   },
   "file_extension": ".py",
   "mimetype": "text/x-python",
   "name": "python",
   "nbconvert_exporter": "python",
   "pygments_lexer": "ipython3",
   "version": "3.10.16"
  }
 },
 "nbformat": 4,
 "nbformat_minor": 5
}
